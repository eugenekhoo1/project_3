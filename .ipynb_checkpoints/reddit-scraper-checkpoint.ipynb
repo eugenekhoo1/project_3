{
 "cells": [
  {
   "cell_type": "markdown",
   "metadata": {},
   "source": [
    "# Reddit Scraper\n",
    "Utilize pushshift API to pull out 100 rows for the last 30 days to get 3000 observations per class"
   ]
  },
  {
   "cell_type": "code",
   "execution_count": null,
   "metadata": {},
   "outputs": [],
   "source": [
    "# Import Packages\n",
    "\n",
    "import requests\n",
    "import pandas as pd\n",
    "from datetime import datetime\n",
    "import time\n",
    "import random"
   ]
  },
  {
   "cell_type": "code",
   "execution_count": 5,
   "metadata": {},
   "outputs": [],
   "source": [
    "url = 'https://api.pushshift.io/reddit/search/submission'"
   ]
  },
  {
   "cell_type": "code",
   "execution_count": 10,
   "metadata": {},
   "outputs": [],
   "source": [
    "# Create loop to pull 100 post for each of the last 30 days\n",
    "\n",
    "n = 0\n",
    "anx_list = []\n",
    "dep_list = []\n",
    "\n",
    "while n < 30:\n",
    "    # pull data\n",
    "    before = n\n",
    "    anx_dict = requests.get(url, params = {'subreddit' : 'anxiety', 'size' : 100, 'before' : f\"{before}d\"}).json()\n",
    "    dep_dict = requests.get(url, params = {'subreddit' : 'depression', 'size' : 100, 'before' : f\"{before}d\"}).json()\n",
    "    \n",
    "    # add data to list\n",
    "    anx_list += anx_dict['data']\n",
    "    dep_list += dep_dict['data']\n",
    "    \n",
    "    n += 1\n",
    "    \n",
    "    time.sleep(random.uniform(5,10))"
   ]
  },
  {
   "cell_type": "code",
   "execution_count": 13,
   "metadata": {},
   "outputs": [
    {
     "data": {
      "text/plain": [
       "((3000, 72), (3000, 80))"
      ]
     },
     "execution_count": 13,
     "metadata": {},
     "output_type": "execute_result"
    }
   ],
   "source": [
    "df_anx = pd.DataFrame(anx_list)\n",
    "df_dep = pd.DataFrame(dep_list)\n",
    "df_anx.shape, df_dep.shape"
   ]
  },
  {
   "cell_type": "code",
   "execution_count": 5,
   "metadata": {},
   "outputs": [],
   "source": [
    "# Create datetime from timestamp\n",
    "\n",
    "df_anx['created_datetime'] = df_anx['created_utc'].apply(lambda x: datetime.fromtimestamp(x))\n",
    "df_dep['created_datetime'] = df_dep['created_utc'].apply(lambda x: datetime.fromtimestamp(x))"
   ]
  },
  {
   "cell_type": "code",
   "execution_count": 6,
   "metadata": {},
   "outputs": [],
   "source": [
    "df_anx[['created_datetime', 'subreddit', 'selftext', 'title']].drop_duplicates(ignore_index=True).to_csv('data/anxiety.csv', index=False)"
   ]
  },
  {
   "cell_type": "code",
   "execution_count": 7,
   "metadata": {},
   "outputs": [],
   "source": [
    "df_dep[['created_datetime', 'subreddit', 'selftext', 'title']].drop_duplicates(ignore_index=True).to_csv('data/depression.csv', index=False)"
   ]
  },
  {
   "cell_type": "code",
   "execution_count": null,
   "metadata": {},
   "outputs": [],
   "source": []
  }
 ],
 "metadata": {
  "kernelspec": {
   "display_name": "Python 3",
   "language": "python",
   "name": "python3"
  },
  "language_info": {
   "codemirror_mode": {
    "name": "ipython",
    "version": 3
   },
   "file_extension": ".py",
   "mimetype": "text/x-python",
   "name": "python",
   "nbconvert_exporter": "python",
   "pygments_lexer": "ipython3",
   "version": "3.7.6"
  }
 },
 "nbformat": 4,
 "nbformat_minor": 4
}
